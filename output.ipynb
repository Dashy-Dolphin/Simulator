{
 "cells": [
  {
   "cell_type": "code",
   "execution_count": null,
   "metadata": {},
   "outputs": [],
   "source": [
    "import os\n",
    "import subprocess as sp\n",
    "input_dir = \"input/\"\n",
    "cache_mode = \"MarkP\"\n",
    "output_dir = \"./output/\"\n",
    "error = \"1.0\"\n",
    "#<workloadname>_<cache_size_for_predictions>_<max_page_id>_<misses for optimal algorithm>.\n",
    "# <no_of_unique_requests>,<total_number_of_requests> and <total_number_of_misses>\n",
    "#list all files in input directory\n",
    "\n",
    "x = []\n",
    "y1 = []  #hit rate for LRU\n",
    "y2 = []  #hit rate for opt\n",
    "\n",
    "for i in os.listdir(input_dir):\n",
    "    j = i.split(\"_\")\n",
    "    cachesize = int(j[1])\n",
    "    max_pages = int(j[2])\n",
    "    optmisses = int(j[3])\n",
    "\n",
    "    cmd = \"./build/tester \" + str(i) + \" \" + cache_mode + \" \" + error + \" >> log.txt\"\n",
    "    print(cmd)\n",
    "    child = sp.Popen(cmd,shell=True)\n",
    "    child.wait()\n",
    "    output_file = output_dir + str(i) +\"_\"+ str(error)+ \".\" + cache_mode\n",
    "    fp = open(output_file,\"r\")\n",
    "    outlist = fp.read().split(\" \")\n",
    "    hitrate1 = 1 - (float(outlist[2])/float(outlist[1])) \n",
    "    hitrate2 = 1 - (optmisses/float(outlist[1]))\n",
    "    fp.close()\n",
    "    x.append(cachesize)\n",
    "    y1.append(hitrate1)\n",
    "\n",
    "    y2.append(hitrate2)\n",
    "\n",
    "   \n",
    "    \n",
    "print(x)\n",
    "print(y1)\n",
    "print(y2)\n",
    "\n",
    "\n"
   ]
  },
  {
   "cell_type": "code",
   "execution_count": null,
   "metadata": {},
   "outputs": [],
   "source": [
    "import matplotlib.pyplot as plt\n",
    "\n",
    "\n",
    "plt.xlabel(\"Cache Size\")\n",
    "plt.ylabel(\"Hit Rate\")\n",
    "plt.scatter(x,y1,color = '#FFFF00',label = \"MarkP\")\n",
    "plt.scatter(x,y2,color =\"#0000FF\",label = \"Optimal\")\n",
    "plt.legend()\n",
    "\n",
    "\n",
    "plot_dir = \"plots/\"\n",
    "plot_name = \"MarkP(prediction-error-rate = \" + str(error) + \") vs Optimal\"\n",
    "plt.title(plot_name + \" Hit rate\")\n",
    "plt.savefig(plot_dir+plot_name + \".png\",format = \"png\")\n",
    "# plt.show()    \n",
    "\n"
   ]
  },
  {
   "cell_type": "code",
   "execution_count": null,
   "metadata": {},
   "outputs": [],
   "source": [
    "import numpy as np\n",
    "\n",
    "\n",
    "\n",
    "mean_file = \"mean.txt\"\n",
    "\n",
    "fp = open(mean_file,\"a\")\n",
    "\n",
    "print(\"MarkP mean\", np.mean(y1))\n",
    "print(\"Optimal mean\", np.mean(y2))\n",
    "fp.write(plot_name + str(\",\") + str(np.mean(y1))+ \",\" + str(np.mean(y2)) + \"\\n\")\n",
    "fp.close()"
   ]
  },
  {
   "cell_type": "code",
   "execution_count": null,
   "metadata": {},
   "outputs": [],
   "source": [
    "#write ccolor to hex code\n"
   ]
  }
 ],
 "metadata": {
  "kernelspec": {
   "display_name": "Python 3",
   "language": "python",
   "name": "python3"
  },
  "language_info": {
   "codemirror_mode": {
    "name": "ipython",
    "version": 3
   },
   "file_extension": ".py",
   "mimetype": "text/x-python",
   "name": "python",
   "nbconvert_exporter": "python",
   "pygments_lexer": "ipython3",
   "version": "3.10.12"
  },
  "orig_nbformat": 4
 },
 "nbformat": 4,
 "nbformat_minor": 2
}
