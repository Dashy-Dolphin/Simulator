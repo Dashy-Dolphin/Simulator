{
 "cells": [
  {
   "cell_type": "code",
   "execution_count": null,
   "metadata": {},
   "outputs": [],
   "source": [
    "#each input file has request, opt request and phase request.\n",
    "import random\n",
    "input_dir = \"./../input/\"\n",
    "file_name = \"normal\"\n",
    "cache_size = 3\n",
    "file = input_dir+ file_name +\"_\"+ str(cache_size)+ \".txt\""
   ]
  },
  {
   "cell_type": "code",
   "execution_count": null,
   "metadata": {},
   "outputs": [],
   "source": [
    "\n",
    "pages_max = 5\n",
    "num_of_req = 10\n",
    "\n",
    "\n",
    "optpredictions = []"
   ]
  },
  {
   "cell_type": "code",
   "execution_count": null,
   "metadata": {},
   "outputs": [],
   "source": [
    "requests = []\n",
    "for i in range(num_of_req):\n",
    "    requests.append(random.randrange(1,pages_max,1))\n",
    "\n",
    "\n"
   ]
  },
  {
   "cell_type": "code",
   "execution_count": null,
   "metadata": {},
   "outputs": [],
   "source": [
    "next_cache = []\n",
    "cache = []\n",
    "\n",
    "phasepred = [0 for i in range(num_of_req)]\n",
    "last_cache = num_of_req\n",
    "for i in range(len(requests)):\n",
    "    j = len(requests) - i - 1\n",
    "    page = requests[j]\n",
    "    if page in next_cache:\n",
    "        phasepred[j] = 0\n",
    "    else:\n",
    "        phasepred[j] = 1\n",
    "\n",
    "    if page not in cache:\n",
    "        cache.append(page)\n",
    "    \n",
    "    if len(cache) == cache_size:\n",
    "        last_cache = j\n",
    "        next_cache = cache\n",
    "        cache = []\n",
    "\n",
    "requests = requests[last_cache:]\n",
    "phasepred = phasepred[last_cache:]\n"
   ]
  },
  {
   "cell_type": "code",
   "execution_count": null,
   "metadata": {},
   "outputs": [],
   "source": [
    "#priority queue\n",
    "mp = {}\n",
    "nearest_req = [0 for i in range(len(requests))]\n",
    "for i in range (len(requests)):\n",
    "    j = len(requests) - i - 1\n",
    "    page = requests[j]\n",
    "    if page not in mp:\n",
    "        \n",
    "        nearest_req[j] = num_of_req + 1\n",
    "    else :\n",
    "        nearest_req[j] = mp[page]\n",
    "       \n",
    "    mp[page] = j\n",
    "    \n",
    "# print(nearest_req)\n",
    "\n",
    "\n",
    "cache = []\n",
    "priority = {}\n",
    "misses = []\n",
    "for j in range(len(requests)):\n",
    "    i = requests[j]\n",
    "    if i not in cache:\n",
    "        misses.append(1)\n",
    "        if len(cache) == cache_size:\n",
    "            pos = 0\n",
    "            for j in range(cache_size):\n",
    "               \n",
    "                if priority[cache[pos]] < priority[cache[j]]:\n",
    "                    pos = j\n",
    "            \n",
    "            cache[pos] = i\n",
    "        else:\n",
    "            cache.append(i)\n",
    "        \n",
    "    else:\n",
    "         misses.append(0)\n",
    "    priority[i] = nearest_req[j]\n",
    "\n",
    "\n",
    "\n",
    "optpred = []\n",
    "\n",
    "for i in range(len(misses)):\n",
    "    page = requests[i]\n",
    "    next = nearest_req[i]\n",
    "    if (next == num_of_req + 1) or misses[next] == 1:\n",
    "        optpred.append(1)\n",
    "    else:\n",
    "        optpred.append(0)\n"
   ]
  },
  {
   "cell_type": "code",
   "execution_count": null,
   "metadata": {},
   "outputs": [],
   "source": [
    "print(\"Requests\" ,requests)\n",
    "print (\"Nearest\", nearest_req)\n",
    "print(\"misses\", misses)\n",
    "print(\"Opt pred\" ,optpred)\n",
    "print(\"Phase pred\" , phasepred)"
   ]
  },
  {
   "cell_type": "code",
   "execution_count": null,
   "metadata": {},
   "outputs": [],
   "source": [
    "\n",
    "write=False\n",
    "if write:\n",
    "    fp = open(file,\"w\")\n",
    "\n",
    "    for i in range(len(requests)):\n",
    "        fp.write(str(requests[i]) + \" \" + str(optpred[i]) + \" \" + str(phasepred[i]) + \"\\n\")\n",
    "\n",
    "    fp.close()\n",
    "\n",
    "\n",
    "#Note the writes are in the following order request, opt prediction and phase prediction\n"
   ]
  }
 ],
 "metadata": {
  "kernelspec": {
   "display_name": "Python 3",
   "language": "python",
   "name": "python3"
  },
  "language_info": {
   "codemirror_mode": {
    "name": "ipython",
    "version": 3
   },
   "file_extension": ".py",
   "mimetype": "text/x-python",
   "name": "python",
   "nbconvert_exporter": "python",
   "pygments_lexer": "ipython3",
   "version": "3.10.12"
  },
  "orig_nbformat": 4
 },
 "nbformat": 4,
 "nbformat_minor": 2
}
